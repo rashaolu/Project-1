{
 "cells": [
  {
   "cell_type": "code",
   "execution_count": null,
   "id": "d705c2cd",
   "metadata": {},
   "outputs": [],
   "source": [
    "# Import dependencies \n",
    "import pandas as pd\n",
    "import matplotlib.pyplot as plt\n",
    "from scipy.stats import linregress\n",
    "import numpy as np  \n",
    "from collections import Counter\n",
    "import warnings\n",
    "warnings.filterwarnings('ignore')"
   ]
  },
  {
   "cell_type": "code",
   "execution_count": null,
   "id": "77ba6c33",
   "metadata": {},
   "outputs": [],
   "source": [
    "# import artist file \n",
    "file = \"Resources/artistDf.csv\"\n",
    "artists=pd.read_csv(file)\n",
    "artists.head()"
   ]
  },
  {
   "cell_type": "code",
   "execution_count": null,
   "id": "46c5cb24",
   "metadata": {},
   "outputs": [],
   "source": [
    "#import RIAA certifications file\n",
    "file_2=\"Resources/riaaAlbumCerts_1999-2019.csv\"\n",
    "riaa=pd.read_csv(file_2)\n",
    "riaa.head()"
   ]
  },
  {
   "cell_type": "code",
   "execution_count": null,
   "id": "74c80124",
   "metadata": {},
   "outputs": [],
   "source": [
    "# Top 5 artists by followers \n",
    "#show only artist and followers column \n",
    "followers=artists[[\"Artist\",\"Followers\"]]\n",
    "followers"
   ]
  },
  {
   "cell_type": "code",
   "execution_count": null,
   "id": "76fee439",
   "metadata": {
    "scrolled": true
   },
   "outputs": [],
   "source": [
    "#sort the followers column from greatest to smallest \n",
    "followers=followers.sort_values([\"Followers\"],ascending=False)\n",
    "followers"
   ]
  },
  {
   "cell_type": "code",
   "execution_count": null,
   "id": "ea43ad2f",
   "metadata": {},
   "outputs": [],
   "source": [
    "#display top 5 artists by followers and reset index\n",
    "followers=followers.head()\n",
    "followers.reset_index(drop=True,inplace=True)\n",
    "followers=followers.set_index([\"Artist\"])\n",
    "followers"
   ]
  },
  {
   "cell_type": "code",
   "execution_count": null,
   "id": "b2ffb000",
   "metadata": {},
   "outputs": [],
   "source": [
    "#create bar chart\n",
    "followers.plot(kind=\"bar\",title=\"5 Most Followed Artist on Spotify\", xlabel=\"Artist\", ylabel=\"Number of Followers\" )\n",
    "plt.show()"
   ]
  },
  {
   "cell_type": "code",
   "execution_count": null,
   "id": "9682599a",
   "metadata": {},
   "outputs": [],
   "source": [
    "# Which artist has released the most albums \n",
    "#look only at the artist and NumAlbum colums \n",
    "most_album=artists[[\"Artist\",\"NumAlbums\"]]\n",
    "most_album"
   ]
  },
  {
   "cell_type": "code",
   "execution_count": null,
   "id": "6eed85ad",
   "metadata": {},
   "outputs": [],
   "source": [
    "#sort the dataframe by Number of albums from greatest to least \n",
    "most_album=most_album.sort_values([\"NumAlbums\"],ascending=False)\n",
    "most_album"
   ]
  },
  {
   "cell_type": "code",
   "execution_count": null,
   "id": "3ebeb23f",
   "metadata": {},
   "outputs": [],
   "source": [
    "#reset the index\n",
    "most_album.reset_index(drop=True,inplace=True)\n",
    "most_album"
   ]
  },
  {
   "cell_type": "code",
   "execution_count": null,
   "id": "efb73ffd",
   "metadata": {},
   "outputs": [],
   "source": [
    "#display the artist with the most albums \n",
    "name_most_album=most_album.iloc[[0]]\n",
    "name_most_album"
   ]
  },
  {
   "cell_type": "code",
   "execution_count": null,
   "id": "87f4d53b",
   "metadata": {},
   "outputs": [],
   "source": [
    "#which artist relseased the first album\n",
    "year=artists[[\"Artist\",\"YearFirstAlbum\"]]\n",
    "year"
   ]
  },
  {
   "cell_type": "code",
   "execution_count": null,
   "id": "edf06739",
   "metadata": {},
   "outputs": [],
   "source": [
    "#sort by eariest year release \n",
    "year=year.sort_values([\"YearFirstAlbum\"])\n",
    "year"
   ]
  },
  {
   "cell_type": "code",
   "execution_count": null,
   "id": "d3fb1a90",
   "metadata": {},
   "outputs": [],
   "source": [
    "#reset index\n",
    "year.reset_index(drop=True, inplace=True)\n",
    "year"
   ]
  },
  {
   "cell_type": "code",
   "execution_count": null,
   "id": "73e25ffd",
   "metadata": {},
   "outputs": [],
   "source": [
    "#distplay the artist \n",
    "year_dropped=year.iloc[[0]]\n",
    "year_dropped"
   ]
  },
  {
   "cell_type": "code",
   "execution_count": null,
   "id": "46499b70",
   "metadata": {},
   "outputs": [],
   "source": [
    "#plot the first 5 albums dropped by year\n",
    "df=year.set_index(['Artist'])\n",
    "df=df.head()\n",
    "df"
   ]
  },
  {
   "cell_type": "code",
   "execution_count": null,
   "id": "2d33a381",
   "metadata": {},
   "outputs": [],
   "source": [
    "# what is the distribution of male v female artists? (pie chart)\n",
    "artist_gender = artists['Gender'].value_counts()\n",
    "colors = ['cornflowerblue','lightcoral']\n",
    "artist_gender.plot(kind='pie', autopct=\"%.1f%%\", colors=colors)\n",
    "plt.title('Male vs. Female Distribution of artists')\n",
    "\n",
    "plt.show()"
   ]
  },
  {
   "cell_type": "code",
   "execution_count": null,
   "id": "36d9133e",
   "metadata": {},
   "outputs": [],
   "source": [
    "# distribution of group vs solo\n",
    "group_solo = artists['Group.Solo'].value_counts()\n",
    "colors = ['aquamarine','mediumorchid']\n",
    "group_solo.plot(kind='pie', autopct=\"%.1f%%\", colors=colors )\n",
    "plt.title('Group vs. Solo Distribution')\n",
    "\n",
    "plt.show()"
   ]
  },
  {
   "cell_type": "code",
   "execution_count": null,
   "id": "27813afb",
   "metadata": {},
   "outputs": [],
   "source": [
    "#summary stats for number of albums\n",
    "album_stats = artists.agg({'NumAlbums':['mean', 'median', 'var', 'std', 'sem']}).round(2)\n",
    "\n",
    "album_stats"
   ]
  },
  {
   "cell_type": "code",
   "execution_count": null,
   "id": "8c26bdf1",
   "metadata": {},
   "outputs": [],
   "source": [
    "#summary stats for number of followers\n",
    "followers_stats = artists.agg({'Followers':['mean', 'median', 'var', 'std', 'sem']}).astype(str)\n",
    "\n",
    "followers_stats"
   ]
  },
  {
   "cell_type": "code",
   "execution_count": null,
   "id": "bfbdd88c",
   "metadata": {},
   "outputs": [],
   "source": [
    "# finding years since first album and albums per year\n",
    "\n",
    "artists['Years Since First Album'] = 2019 - artists['YearFirstAlbum']\n",
    "artists['Albums Per Year'] = artists['NumAlbums']/artists['Years Since First Album']\n",
    "top_ten = artists.sort_values(by=['Albums Per Year'], ascending = False).head()\n",
    "top_ten"
   ]
  },
  {
   "cell_type": "code",
   "execution_count": null,
   "id": "cf48cfa0",
   "metadata": {},
   "outputs": [],
   "source": [
    "# define a function that plots and shows linear regression\n",
    "def linreg_eq (x_axis, y_axis, eq_coord, x_lab, y_lab):\n",
    "    (slope, intercept, rvalue, pvalue, stderr) = linregress(x_axis, y_axis)\n",
    "    # Get regression values\n",
    "    regress_values = x_axis * slope + intercept\n",
    "    #line eq to plot\n",
    "    line_eq = \"y = \" + str(round(slope,4)) + \"x +\" + str(round(intercept,2))\n",
    "    plt.annotate(line_eq, eq_coord, fontsize=15, color=\"red\")\n",
    "    #plot, format, show\n",
    "    plt.scatter(x_axis, y_axis)\n",
    "    plt.plot(x_axis, regress_values, 'r-')\n",
    "    plt.xlabel(x_lab)\n",
    "    plt.ylabel(y_lab)\n",
    "    plt.tight_layout()\n",
    "    print(f\"The r-value is: {rvalue}\")\n",
    "    plt.show()"
   ]
  },
  {
   "cell_type": "code",
   "execution_count": null,
   "id": "3312766e",
   "metadata": {},
   "outputs": [],
   "source": [
    "# displaying coorelation & linear regression between followers and number of albums\n",
    "linreg_eq(artists['Followers'], artists['NumAlbums'],(30695247, 60), 'Followers', 'Number of Albums')"
   ]
  },
  {
   "cell_type": "code",
   "execution_count": null,
   "id": "0d78edd2",
   "metadata": {},
   "outputs": [],
   "source": [
    "# # displaying coorelation & linear regression between years since first album and number of albums\n",
    "linreg_eq(artists['Years Since First Album'], artists['NumAlbums'],(20, 120), 'Years Since First Album', 'Number of Albums')\n"
   ]
  },
  {
   "cell_type": "code",
   "execution_count": null,
   "id": "b902410c",
   "metadata": {},
   "outputs": [],
   "source": [
    "#drop unwanted columns\n",
    "riaa=riaa.drop([\"Unnamed: 0\"],axis=1)\n",
    "riaa"
   ]
  },
  {
   "cell_type": "code",
   "execution_count": null,
   "id": "9d6d48b0",
   "metadata": {
    "scrolled": true
   },
   "outputs": [],
   "source": [
    "#Label with most albums released\n",
    "label=riaa[\"Label\"].value_counts()\n",
    "bar=label.head()\n",
    "bar.plot(kind=\"bar\", title=\"Label Generating Most Albums\", xlabel=\"Label\", ylabel=\"Number of Albums\")\n",
    "plt.show()"
   ]
  },
  {
   "cell_type": "code",
   "execution_count": null,
   "id": "df7f9fa4",
   "metadata": {},
   "outputs": [],
   "source": [
    "# display most albums\n",
    "bar"
   ]
  },
  {
   "cell_type": "code",
   "execution_count": null,
   "id": "169554d3",
   "metadata": {},
   "outputs": [],
   "source": [
    "# top ten artists that have albumns achieving diamond status\n",
    "diamond=riaa[riaa[\"Status\"].str.contains(\"Diamond\", na=False)]\n",
    "diamond_artists=diamond[\"Artist\"].value_counts()\n",
    "plt_d_artists = diamond_artists.head(10)\n",
    "plt_d_artists"
   ]
  },
  {
   "cell_type": "code",
   "execution_count": null,
   "id": "3f3738c7",
   "metadata": {},
   "outputs": [],
   "source": [
    "# bar chart for artists achieving diamond status\n",
    "plt.bar(plt_d_artists.index.values, plt_d_artists.values, facecolor = 'deepskyblue')\n",
    "plt.ylabel('Number of Diamond Certifications')\n",
    "plt.xticks(rotation= 'vertical')\n",
    "plt.title('Artists Receiving Most Diamond Certifications')\n",
    "plt.tight_layout()\n",
    "plt.show()"
   ]
  },
  {
   "cell_type": "code",
   "execution_count": null,
   "id": "6b4f9122",
   "metadata": {},
   "outputs": [],
   "source": [
    "# which labels have achieved diamond status?\n",
    "diamond_labels = diamond[\"Label\"].value_counts()\n",
    "plt_d_labels = diamond_labels.head(10)\n",
    "plt_d_labels"
   ]
  },
  {
   "cell_type": "code",
   "execution_count": null,
   "id": "0d72ec07",
   "metadata": {},
   "outputs": [],
   "source": [
    "#bar chart for labels achieving diamond\n",
    "plt.bar(plt_d_labels.index.values, plt_d_labels.values,  facecolor = 'deepskyblue')\n",
    "plt.ylabel('Number of Diamond Certifications')\n",
    "plt.xticks(rotation= 'vertical')\n",
    "plt.title('Labels Receiving Most Diamond Certifications')\n",
    "plt.tight_layout()\n",
    "plt.show()"
   ]
  },
  {
   "cell_type": "code",
   "execution_count": null,
   "id": "5aaff3a7",
   "metadata": {
    "scrolled": false
   },
   "outputs": [],
   "source": [
    "# creating gold status dataframe\n",
    "index=riaa.set_index([\"Album\"])\n",
    "index\n",
    "test=index[\"Status\"]==\"Gold\"\n",
    "test\n",
    "df=index.loc[test[:]]\n",
    "df"
   ]
  },
  {
   "cell_type": "code",
   "execution_count": null,
   "id": "bb70e1a4",
   "metadata": {},
   "outputs": [],
   "source": [
    "# finding unique artist names\n",
    "df['Artist'].unique()"
   ]
  },
  {
   "cell_type": "code",
   "execution_count": null,
   "id": "963fb805",
   "metadata": {},
   "outputs": [],
   "source": [
    "# finding counts for artists\n",
    "df['Artist'].value_counts()"
   ]
  },
  {
   "cell_type": "code",
   "execution_count": null,
   "id": "ded920dd",
   "metadata": {},
   "outputs": [],
   "source": [
    "# display graph\n",
    "fig, ax = plt.subplots()\n",
    "df['Artist'].value_counts().head(10).plot(ax=ax, kind='bar', color='Gold', title=\"Artist Receiving Most Gold Certifications\", ylabel=\"Number of Gold Certifications\")\n",
    "plt.show()"
   ]
  },
  {
   "cell_type": "code",
   "execution_count": null,
   "id": "f95d22f3",
   "metadata": {},
   "outputs": [],
   "source": [
    "# re-indexing dataframe to artist\n",
    "# df.set_index([\"Artist\"])"
   ]
  },
  {
   "cell_type": "code",
   "execution_count": null,
   "id": "9ee910f2",
   "metadata": {},
   "outputs": [],
   "source": [
    "# finding unique labels\n",
    "df['Label'].unique()"
   ]
  },
  {
   "cell_type": "code",
   "execution_count": null,
   "id": "9c5d30fe",
   "metadata": {},
   "outputs": [],
   "source": [
    "# finding counts for labels\n",
    "df['Label'].value_counts()"
   ]
  },
  {
   "cell_type": "code",
   "execution_count": null,
   "id": "3fe9c284",
   "metadata": {},
   "outputs": [],
   "source": [
    "# display graph\n",
    "fig, ax = plt.subplots()\n",
    "df['Label'].value_counts().head(10).plot(ax=ax, kind='bar', color='Gold', title=\"Label Receiving Most Gold Certifications\", ylabel=\"Number of Gold Certifications\")\n",
    "plt.show()"
   ]
  },
  {
   "cell_type": "code",
   "execution_count": null,
   "id": "3c22e8e7",
   "metadata": {},
   "outputs": [],
   "source": [
    "# genres\n",
    "\n",
    "# create genres dataframe\n",
    "artists_genres_df = pd.read_csv(\"Resources/artistDf.csv\")\n",
    "artists_genres_df"
   ]
  },
  {
   "cell_type": "code",
   "execution_count": null,
   "id": "76b54c72",
   "metadata": {},
   "outputs": [],
   "source": [
    "# genres\n",
    "\n",
    "# determine most common genres: break genres into string w/comma to split types and save to new column\n",
    "artists_genres_df['Genres'] = artists_genres_df['Genres'].astype(str)\n",
    "artists_genres_df['CommonTerms'] = artists_genres_df['Genres'].apply(lambda x: x.split(','))\n",
    "artists_genres_df.head()"
   ]
  },
  {
   "cell_type": "code",
   "execution_count": null,
   "id": "e96e27da",
   "metadata": {},
   "outputs": [],
   "source": [
    "# genres\n",
    "\n",
    "# loop through CommonTerms and count \n",
    "\n",
    "all_genres = []\n",
    "for g in artists_genres_df['CommonTerms']:\n",
    "    all_genres.extend(g)\n",
    "\n",
    "genres_dict = dict(Counter(all_genres))\n",
    "\n",
    "sorted_genres_dict = dict(sorted(genres_dict.items(), key=lambda item:item[1], reverse=True))\n",
    "sorted_genres_dict"
   ]
  },
  {
   "cell_type": "code",
   "execution_count": null,
   "id": "ce7001a0",
   "metadata": {},
   "outputs": [],
   "source": [
    "print(len(sorted_genres_dict))"
   ]
  },
  {
   "cell_type": "code",
   "execution_count": null,
   "id": "6beef841",
   "metadata": {},
   "outputs": [],
   "source": [
    "# creating dataframe for genres\n",
    "genres_df = pd.DataFrame([sorted_genres_dict])\n",
    "genres_df.iloc[:, :10] "
   ]
  },
  {
   "cell_type": "code",
   "execution_count": null,
   "id": "39f7218b",
   "metadata": {},
   "outputs": [],
   "source": [
    "# displaying top 10 genres\n",
    "genres_df.head(10)"
   ]
  },
  {
   "cell_type": "code",
   "execution_count": null,
   "id": "2401f6f1",
   "metadata": {},
   "outputs": [],
   "source": [
    "# transposing dataframe\n",
    "genres_df.T.head(20) "
   ]
  },
  {
   "cell_type": "code",
   "execution_count": null,
   "id": "6fa683a2",
   "metadata": {},
   "outputs": [],
   "source": [
    "#display graph\n",
    "genres_df = pd.DataFrame({\n",
    "    \"Genres\": [\"dance pop\", \"pop rap\", \"pop\", \"rap\", \"hip hop\", \"pop rock\", \"southern hip hop\", \"r&b\", \"urban contemporary\", \"country\"],\n",
    "    \"Values\": [226, 209, 198, 166, 158, 147, 144, 137, 134, 129]\n",
    "})\n",
    "                        \n",
    "bar_plot = genres_df.plot.bar(x = 'Genres', y = 'Values', legend=None)\n",
    "bar_plot.set_title(\"Top 10 Genres\")"
   ]
  },
  {
   "cell_type": "code",
   "execution_count": null,
   "id": "6b1b1be0",
   "metadata": {},
   "outputs": [],
   "source": [
    "# certifications clustered bar chart - gold\n",
    "\n",
    "# index=riaa.set_index([\"Album\"])\n",
    "# index\n",
    "# test=index[\"Status\"]==\"Gold\"\n",
    "# test\n",
    "# gold_df=index.loc[test[:]]\n",
    "# gold_df"
   ]
  },
  {
   "cell_type": "code",
   "execution_count": null,
   "id": "c62acf74",
   "metadata": {},
   "outputs": [],
   "source": [
    "# certifications clustered bar chart - gold\n",
    "\n",
    "# gold_df['Label'].unique()"
   ]
  },
  {
   "cell_type": "code",
   "execution_count": null,
   "id": "e9411967",
   "metadata": {},
   "outputs": [],
   "source": [
    "# certifications clustered bar chart - gold\n",
    "\n",
    "# gold_df['Label'].value_counts()"
   ]
  },
  {
   "cell_type": "code",
   "execution_count": null,
   "id": "8bf88c02",
   "metadata": {},
   "outputs": [],
   "source": [
    "# fig, ax = plt.subplots()\n",
    "# gold_df['Label'].value_counts().head(10).plot(ax=ax, kind='bar', title=\"Label Receiving Most Gold Certificiations\", ylabel=\"Number of Gold Certifications\")\n",
    "# plt.show()"
   ]
  },
  {
   "cell_type": "code",
   "execution_count": null,
   "id": "c6867143",
   "metadata": {},
   "outputs": [],
   "source": [
    "# certifications clustered bar chart - platinum\n",
    "\n",
    "index=riaa.set_index([\"Album\"])\n",
    "index\n",
    "test = index[\"Status\"].str.contains(\"Platinum\", case=False)\n",
    "test\n",
    "platinum_df=index.loc[test[:]]\n",
    "platinum_df"
   ]
  },
  {
   "cell_type": "code",
   "execution_count": null,
   "id": "420f6d26",
   "metadata": {},
   "outputs": [],
   "source": [
    "# certifications clustered bar chart - platinum\n",
    "\n",
    "platinum_df['Label'].unique()"
   ]
  },
  {
   "cell_type": "code",
   "execution_count": null,
   "id": "815a5dce",
   "metadata": {},
   "outputs": [],
   "source": [
    "# certifications clustered bar chart - platinum\n",
    "\n",
    "platinum_df['Label'].value_counts()"
   ]
  },
  {
   "cell_type": "code",
   "execution_count": null,
   "id": "c0fdbb51",
   "metadata": {},
   "outputs": [],
   "source": [
    "# fig, ax = plt.subplots()\n",
    "# platinum_df['Label'].value_counts().head(10).plot(ax=ax, kind='bar', title=\"Label Receiving Most Platinum Certificiations\", ylabel=\"Number of Platinum Certifications\")\n",
    "# plt.show()"
   ]
  },
  {
   "cell_type": "code",
   "execution_count": null,
   "id": "cb3cfb38",
   "metadata": {},
   "outputs": [],
   "source": [
    "# certifications clustered bar chart - diamond\n",
    "\n",
    "index=riaa.set_index([\"Album\"])\n",
    "index\n",
    "test = index[\"Status\"].str.contains(\"Diamond\", case=False)\n",
    "test\n",
    "diamond_df=index.loc[test[:]]\n",
    "diamond_df"
   ]
  },
  {
   "cell_type": "code",
   "execution_count": null,
   "id": "b0318a93",
   "metadata": {},
   "outputs": [],
   "source": [
    "# certifications clustered bar chart - diamond\n",
    "\n",
    "diamond_df['Label'].unique()"
   ]
  },
  {
   "cell_type": "code",
   "execution_count": null,
   "id": "1742afff",
   "metadata": {},
   "outputs": [],
   "source": [
    "# certifications clustered bar chart - diamond\n",
    "\n",
    "diamond_df['Label'].value_counts()"
   ]
  },
  {
   "cell_type": "code",
   "execution_count": null,
   "id": "4a6f4e97",
   "metadata": {},
   "outputs": [],
   "source": [
    "# fig, ax = plt.subplots()\n",
    "# diamond_df['Label'].value_counts().head(10).plot(ax=ax, kind='bar', title=\"Label Receiving Most Diamond Certificiations\", ylabel=\"Number of Diamond Certifications\")\n",
    "# plt.show()"
   ]
  },
  {
   "cell_type": "code",
   "execution_count": null,
   "id": "d2f78778",
   "metadata": {},
   "outputs": [],
   "source": [
    "# concatenating gold, plat, dia df into single df with all certs\n",
    "all_certs_df = pd.concat([df, platinum_df, diamond_df])\n",
    "all_certs_df"
   ]
  },
  {
   "cell_type": "code",
   "execution_count": null,
   "id": "2e6bb18b",
   "metadata": {},
   "outputs": [],
   "source": [
    "# finding unique values for labels\n",
    "all_certs_df['Label'].unique()"
   ]
  },
  {
   "cell_type": "code",
   "execution_count": null,
   "id": "7a7bfec3",
   "metadata": {},
   "outputs": [],
   "source": [
    "# getting counts for labels\n",
    "all_certs_df['Label'].value_counts()"
   ]
  },
  {
   "cell_type": "code",
   "execution_count": null,
   "id": "d24308e6",
   "metadata": {},
   "outputs": [],
   "source": [
    "# all_certs_df.value_counts()"
   ]
  },
  {
   "cell_type": "code",
   "execution_count": null,
   "id": "233b8875",
   "metadata": {},
   "outputs": [],
   "source": [
    "#display graph\n",
    "fig, ax = plt.subplots()\n",
    "all_certs_df['Label'].value_counts().head(15).plot(ax=ax, kind='bar', title=\"Labels Receiving All Certificiations\", ylabel=\"Number of Certifications\")\n",
    "plt.show()"
   ]
  },
  {
   "cell_type": "code",
   "execution_count": null,
   "id": "b0a1d6be",
   "metadata": {},
   "outputs": [],
   "source": [
    "# gold_df"
   ]
  },
  {
   "cell_type": "code",
   "execution_count": null,
   "id": "a610e63d",
   "metadata": {},
   "outputs": [],
   "source": [
    "# unifying status\n",
    "platinum_df[\"Status\"]=\"Platinum\"\n",
    "platinum_df"
   ]
  },
  {
   "cell_type": "code",
   "execution_count": null,
   "id": "001b2cf6",
   "metadata": {},
   "outputs": [],
   "source": [
    "# unifying status\n",
    "diamond_df[\"Status\"]=\"Diamond\"\n",
    "diamond_df"
   ]
  },
  {
   "cell_type": "code",
   "execution_count": null,
   "id": "dc0b1c43",
   "metadata": {},
   "outputs": [],
   "source": [
    "# ranaming status column\n",
    "df.rename(columns = {'Status':'Status GOLD'}, inplace = True)\n",
    "df"
   ]
  },
  {
   "cell_type": "code",
   "execution_count": null,
   "id": "a8d2192b",
   "metadata": {},
   "outputs": [],
   "source": [
    "# setting index to label\n",
    "df.set_index([\"Label\"])"
   ]
  },
  {
   "cell_type": "code",
   "execution_count": null,
   "id": "467d202e",
   "metadata": {},
   "outputs": [],
   "source": [
    "# ranaming status column\n",
    "platinum_df.rename(columns = {'Status':'Status PLAT'}, inplace = True)\n",
    "platinum_df"
   ]
  },
  {
   "cell_type": "code",
   "execution_count": null,
   "id": "34215d66",
   "metadata": {},
   "outputs": [],
   "source": [
    "# indexing to label\n",
    "platinum_df.set_index([\"Label\"])"
   ]
  },
  {
   "cell_type": "code",
   "execution_count": null,
   "id": "30b9df41",
   "metadata": {},
   "outputs": [],
   "source": [
    "# renaming column\n",
    "diamond_df.rename(columns = {'Status':'Status DIA'}, inplace = True)\n",
    "diamond_df"
   ]
  },
  {
   "cell_type": "code",
   "execution_count": null,
   "id": "e4b566d1",
   "metadata": {},
   "outputs": [],
   "source": [
    "# indexing to label\n",
    "diamond_df.set_index([\"Label\"])"
   ]
  },
  {
   "cell_type": "code",
   "execution_count": null,
   "id": "5ed5e626",
   "metadata": {},
   "outputs": [],
   "source": [
    "# df_3 = pd.concat([df_1, df_2])\n",
    "\n",
    "all_certs_df = pd.concat([df, platinum_df, diamond_df])\n",
    "all_certs_df"
   ]
  },
  {
   "cell_type": "code",
   "execution_count": null,
   "id": "a7734e03",
   "metadata": {},
   "outputs": [],
   "source": [
    "# indexing to label\n",
    "all_certs_df.set_index([\"Label\"])"
   ]
  },
  {
   "cell_type": "code",
   "execution_count": null,
   "id": "e6d7c10e",
   "metadata": {},
   "outputs": [],
   "source": [
    "# # display multi-bar graph...breakdown of certs by label\n",
    "# test_df=all_certs_df.reset_index()\n",
    "# # colors = ['Gold','Slategray', 'Skyblue']\n",
    "# label_group_df=test_df.groupby('Label')[['Status GOLD', 'Status PLAT', 'Status DIA']].count()\n",
    "# label_group_df['Total']=label_group_df.sum(axis=1)\n",
    "\n",
    "# # change sort values as needed\n",
    "# label_group_df=label_group_df.sort_values('Total', ascending=False)\n",
    "# label_group_df.head()[['Status GOLD', 'Status PLAT', 'Status DIA']].plot(kind='bar', colors=['Gold', 'Slategray', 'Skyblue'])\n",
    "\n",
    "test_df = all_certs_df.reset_index()\n",
    "colors = ['Gold', 'Slategray', 'Skyblue']\n",
    "label_group_df = test_df.groupby('Label')[['Status GOLD', 'Status PLAT', 'Status DIA']].count()\n",
    "label_group_df['Total'] = label_group_df.sum(axis=1)\n",
    "label_group_df = label_group_df.sort_values('Total', ascending=False)\n",
    "label_group_df.head()[['Status GOLD', 'Status PLAT', 'Status DIA']].plot(kind='bar',title='Top 5 Labels Achieving all 3 Certifications (Sorted by Total Certs)', color=colors)"
   ]
  },
  {
   "cell_type": "code",
   "execution_count": null,
   "id": "b61fb8c8",
   "metadata": {},
   "outputs": [],
   "source": [
    "# display multi-bar graph...breakdown of certs by label\n",
    "test_df=all_certs_df.reset_index()\n",
    "colors = ['Gold', 'Slategray', 'Skyblue']\n",
    "\n",
    "label_group_df=test_df.groupby('Label')[['Status GOLD', 'Status PLAT', 'Status DIA']].count()\n",
    "label_group_df['Total']=label_group_df.sum(axis=1)\n",
    "\n",
    "# change sort values as needed\n",
    "label_group_df=label_group_df.sort_values('Status DIA', ascending=False)\n",
    "label_group_df.head()[['Status GOLD', 'Status PLAT', 'Status DIA']].plot(kind='bar', title='Labels Achieving all 3 Certifications - Sorted by Diamond Certs', color=colors)"
   ]
  },
  {
   "cell_type": "code",
   "execution_count": null,
   "id": "8a8b44cf",
   "metadata": {},
   "outputs": [],
   "source": []
  }
 ],
 "metadata": {
  "kernelspec": {
   "display_name": "Python 3 (ipykernel)",
   "language": "python",
   "name": "python3"
  },
  "language_info": {
   "codemirror_mode": {
    "name": "ipython",
    "version": 3
   },
   "file_extension": ".py",
   "mimetype": "text/x-python",
   "name": "python",
   "nbconvert_exporter": "python",
   "pygments_lexer": "ipython3",
   "version": "3.9.12"
  }
 },
 "nbformat": 4,
 "nbformat_minor": 5
}
