{
 "cells": [
  {
   "cell_type": "code",
   "execution_count": 53,
   "id": "df1e0e99",
   "metadata": {},
   "outputs": [],
   "source": [
    "# Import dependencies \n",
    "import pandas as pd\n",
    "import matplotlib.pyplot as plt"
   ]
  },
  {
   "cell_type": "code",
   "execution_count": 54,
   "id": "31facd2f",
   "metadata": {},
   "outputs": [
    {
     "data": {
      "text/html": [
       "<div>\n",
       "<style scoped>\n",
       "    .dataframe tbody tr th:only-of-type {\n",
       "        vertical-align: middle;\n",
       "    }\n",
       "\n",
       "    .dataframe tbody tr th {\n",
       "        vertical-align: top;\n",
       "    }\n",
       "\n",
       "    .dataframe thead th {\n",
       "        text-align: right;\n",
       "    }\n",
       "</style>\n",
       "<table border=\"1\" class=\"dataframe\">\n",
       "  <thead>\n",
       "    <tr style=\"text-align: right;\">\n",
       "      <th></th>\n",
       "      <th>Unnamed: 0</th>\n",
       "      <th>Album</th>\n",
       "      <th>Artist</th>\n",
       "      <th>Status</th>\n",
       "      <th>Label</th>\n",
       "    </tr>\n",
       "  </thead>\n",
       "  <tbody>\n",
       "    <tr>\n",
       "      <th>0</th>\n",
       "      <td>0</td>\n",
       "      <td>GREATEST HITS</td>\n",
       "      <td>MARIAH CAREY</td>\n",
       "      <td>2x Multi-Platinum</td>\n",
       "      <td>LEGACY</td>\n",
       "    </tr>\n",
       "    <tr>\n",
       "      <th>1</th>\n",
       "      <td>1</td>\n",
       "      <td>THE REMIXES</td>\n",
       "      <td>MARIAH CAREY</td>\n",
       "      <td>Gold</td>\n",
       "      <td>COLUMBIA</td>\n",
       "    </tr>\n",
       "    <tr>\n",
       "      <th>2</th>\n",
       "      <td>2</td>\n",
       "      <td>VIEWS</td>\n",
       "      <td>DRAKE</td>\n",
       "      <td>6x Multi-Platinum</td>\n",
       "      <td>REPUBLIC RECORDS / CASH MONEY RECORDS / YOUNG...</td>\n",
       "    </tr>\n",
       "    <tr>\n",
       "      <th>3</th>\n",
       "      <td>3</td>\n",
       "      <td>MAJOR KEY</td>\n",
       "      <td>DJ KHALED</td>\n",
       "      <td>1x Platinum</td>\n",
       "      <td>WE THE BEST / EPIC</td>\n",
       "    </tr>\n",
       "    <tr>\n",
       "      <th>4</th>\n",
       "      <td>4</td>\n",
       "      <td>THE CHRISTMAS SESSIONS</td>\n",
       "      <td>MERCYME</td>\n",
       "      <td>Gold</td>\n",
       "      <td>FAIR TRADE SERVICES</td>\n",
       "    </tr>\n",
       "  </tbody>\n",
       "</table>\n",
       "</div>"
      ],
      "text/plain": [
       "   Unnamed: 0                    Album        Artist             Status  \\\n",
       "0           0            GREATEST HITS  MARIAH CAREY  2x Multi-Platinum   \n",
       "1           1              THE REMIXES  MARIAH CAREY               Gold   \n",
       "2           2                    VIEWS         DRAKE  6x Multi-Platinum   \n",
       "3           3                MAJOR KEY     DJ KHALED        1x Platinum   \n",
       "4           4   THE CHRISTMAS SESSIONS       MERCYME               Gold   \n",
       "\n",
       "                                               Label  \n",
       "0                                             LEGACY  \n",
       "1                                           COLUMBIA  \n",
       "2   REPUBLIC RECORDS / CASH MONEY RECORDS / YOUNG...  \n",
       "3                                 WE THE BEST / EPIC  \n",
       "4                                FAIR TRADE SERVICES  "
      ]
     },
     "execution_count": 54,
     "metadata": {},
     "output_type": "execute_result"
    }
   ],
   "source": [
    "# Import RIAA certifications file\n",
    "file_2=\"Resources/riaaAlbumCerts_1999-2019.csv\"\n",
    "riaa=pd.read_csv(file_2)\n",
    "riaa.head()"
   ]
  },
  {
   "cell_type": "code",
   "execution_count": 55,
   "id": "3f302bad",
   "metadata": {},
   "outputs": [
    {
     "data": {
      "text/plain": [
       "15"
      ]
     },
     "execution_count": 55,
     "metadata": {},
     "output_type": "execute_result"
    }
   ],
   "source": [
    "# How many status's are there? \n",
    "status_types = len(riaa[\"Status\"].unique())\n",
    "status_types"
   ]
  },
  {
   "cell_type": "code",
   "execution_count": 56,
   "id": "e56e8098",
   "metadata": {},
   "outputs": [
    {
     "data": {
      "text/plain": [
       "618"
      ]
     },
     "execution_count": 56,
     "metadata": {},
     "output_type": "execute_result"
    }
   ],
   "source": [
    "# How many artists are there? \n",
    "artists_count = len(riaa[\"Artist\"].unique())\n",
    "artists_count"
   ]
  },
  {
   "cell_type": "code",
   "execution_count": 57,
   "id": "1da4b899",
   "metadata": {},
   "outputs": [
    {
     "data": {
      "text/plain": [
       "742"
      ]
     },
     "execution_count": 57,
     "metadata": {},
     "output_type": "execute_result"
    }
   ],
   "source": [
    "# How many gold certs were given to artists? \n",
    "riaa['Status'].value_counts()['Gold']"
   ]
  },
  {
   "cell_type": "code",
   "execution_count": 58,
   "id": "436640be",
   "metadata": {},
   "outputs": [
    {
     "data": {
      "text/html": [
       "<div>\n",
       "<style scoped>\n",
       "    .dataframe tbody tr th:only-of-type {\n",
       "        vertical-align: middle;\n",
       "    }\n",
       "\n",
       "    .dataframe tbody tr th {\n",
       "        vertical-align: top;\n",
       "    }\n",
       "\n",
       "    .dataframe thead th {\n",
       "        text-align: right;\n",
       "    }\n",
       "</style>\n",
       "<table border=\"1\" class=\"dataframe\">\n",
       "  <thead>\n",
       "    <tr style=\"text-align: right;\">\n",
       "      <th></th>\n",
       "      <th>Artist</th>\n",
       "      <th>Status</th>\n",
       "      <th>Label</th>\n",
       "    </tr>\n",
       "    <tr>\n",
       "      <th>Album</th>\n",
       "      <th></th>\n",
       "      <th></th>\n",
       "      <th></th>\n",
       "    </tr>\n",
       "  </thead>\n",
       "  <tbody>\n",
       "    <tr>\n",
       "      <th>THE REMIXES</th>\n",
       "      <td>MARIAH CAREY</td>\n",
       "      <td>Gold</td>\n",
       "      <td>COLUMBIA</td>\n",
       "    </tr>\n",
       "    <tr>\n",
       "      <th>THE CHRISTMAS SESSIONS</th>\n",
       "      <td>MERCYME</td>\n",
       "      <td>Gold</td>\n",
       "      <td>FAIR TRADE SERVICES</td>\n",
       "    </tr>\n",
       "    <tr>\n",
       "      <th>BAPTIZED</th>\n",
       "      <td>DAUGHTRY</td>\n",
       "      <td>Gold</td>\n",
       "      <td>RCA</td>\n",
       "    </tr>\n",
       "    <tr>\n",
       "      <th>TREMAINE: THE ALBUM</th>\n",
       "      <td>TREY SONGZ</td>\n",
       "      <td>Gold</td>\n",
       "      <td>ATLANTIC RECORDS</td>\n",
       "    </tr>\n",
       "    <tr>\n",
       "      <th>GRAFFITI</th>\n",
       "      <td>CHRIS BROWN</td>\n",
       "      <td>Gold</td>\n",
       "      <td>RCA</td>\n",
       "    </tr>\n",
       "    <tr>\n",
       "      <th>...</th>\n",
       "      <td>...</td>\n",
       "      <td>...</td>\n",
       "      <td>...</td>\n",
       "    </tr>\n",
       "    <tr>\n",
       "      <th>MIDNITE VULTURES</th>\n",
       "      <td>BECK</td>\n",
       "      <td>Gold</td>\n",
       "      <td>GEFFEN</td>\n",
       "    </tr>\n",
       "    <tr>\n",
       "      <th>RAVE UN2 THE JOY FANTASTIC</th>\n",
       "      <td>PRINCE</td>\n",
       "      <td>Gold</td>\n",
       "      <td>ARISTA</td>\n",
       "    </tr>\n",
       "    <tr>\n",
       "      <th>NIGGA PLEASE</th>\n",
       "      <td>OL' DIRTY BASTARD</td>\n",
       "      <td>Gold</td>\n",
       "      <td>ELEKTRA</td>\n",
       "    </tr>\n",
       "    <tr>\n",
       "      <th>SOUND SYSTEM</th>\n",
       "      <td>311</td>\n",
       "      <td>Gold</td>\n",
       "      <td>CAPRICORN</td>\n",
       "    </tr>\n",
       "    <tr>\n",
       "      <th>I WANT IT ALL</th>\n",
       "      <td>WARREN G</td>\n",
       "      <td>Gold</td>\n",
       "      <td>RESTLESS/G-FUNK</td>\n",
       "    </tr>\n",
       "  </tbody>\n",
       "</table>\n",
       "<p>742 rows × 3 columns</p>\n",
       "</div>"
      ],
      "text/plain": [
       "                                       Artist Status                 Label\n",
       "Album                                                                     \n",
       " THE REMIXES                     MARIAH CAREY   Gold              COLUMBIA\n",
       " THE CHRISTMAS SESSIONS               MERCYME   Gold   FAIR TRADE SERVICES\n",
       " BAPTIZED                            DAUGHTRY   Gold                   RCA\n",
       " TREMAINE: THE ALBUM               TREY SONGZ   Gold      ATLANTIC RECORDS\n",
       "GRAFFITI                          CHRIS BROWN   Gold                   RCA\n",
       "...                                       ...    ...                   ...\n",
       "MIDNITE VULTURES                         BECK   Gold                GEFFEN\n",
       "RAVE UN2 THE JOY FANTASTIC             PRINCE   Gold                ARISTA\n",
       "NIGGA PLEASE                OL' DIRTY BASTARD   Gold               ELEKTRA\n",
       "SOUND SYSTEM                              311   Gold             CAPRICORN\n",
       "I WANT IT ALL                        WARREN G   Gold       RESTLESS/G-FUNK\n",
       "\n",
       "[742 rows x 3 columns]"
      ]
     },
     "execution_count": 58,
     "metadata": {},
     "output_type": "execute_result"
    }
   ],
   "source": [
    "# Format by album_artist_status_label\n",
    "index= riaa.set_index([\"Album\"])\n",
    "\n",
    "Gold_finder= index[\"Status\"]==\"Gold\"\n",
    "\n",
    "df= index.loc[test[:]]\n",
    "\n",
    "df= df.drop('Unnamed: 0',axis=1)\n",
    "\n",
    "df"
   ]
  },
  {
   "cell_type": "code",
   "execution_count": 59,
   "id": "a7e148ea",
   "metadata": {},
   "outputs": [
    {
     "data": {
      "text/plain": [
       " COLUMBIA                                    51\n",
       " EPIC                                        40\n",
       " ATLANTIC                                    25\n",
       " GEFFEN                                      24\n",
       " RCA RECORDS                                 21\n",
       "                                             ..\n",
       " HOMEGROWN / ATLANTIC RECORDS                 1\n",
       " MR. 305, DISTRIBUTED BY SONY MUSIC LATIN     1\n",
       " PPK                                          1\n",
       " COLUMBIA / NICKELODEON JV                    1\n",
       " RESTLESS/G-FUNK                              1\n",
       "Name: Label, Length: 224, dtype: int64"
      ]
     },
     "execution_count": 59,
     "metadata": {},
     "output_type": "execute_result"
    }
   ],
   "source": [
    "# Show top and bottom labels \n",
    "df['Label'].value_counts()"
   ]
  },
  {
   "cell_type": "code",
   "execution_count": 60,
   "id": "cd3a0574",
   "metadata": {},
   "outputs": [
    {
     "data": {
      "image/png": "[encoded data removed]",
      "text/plain": [
       "<Figure size 640x480 with 1 Axes>"
      ]
     },
     "metadata": {},
     "output_type": "display_data"
    }
   ],
   "source": [
    "# Label with most gold certs\n",
    "fig, ax = plt.subplots()\n",
    "df['Label'].value_counts().head(10).plot(ax=ax, kind='bar', title=\"Label with most Gold Certificiations\", ylabel=\"Number of Gold Certifications\")\n",
    "plt.show()"
   ]
  },
  {
   "cell_type": "code",
   "execution_count": 61,
   "id": "53e8858e",
   "metadata": {},
   "outputs": [
    {
     "data": {
      "text/plain": [
       "ELVIS PRESLEY      10\n",
       "MERCYME             7\n",
       "LIL WAYNE           6\n",
       "GEORGE STRAIT       6\n",
       "JOSH GROBAN         5\n",
       "                   ..\n",
       "HINDER              1\n",
       "ENYA                1\n",
       "THE KILLERS         1\n",
       "DAVID ARCHULETA     1\n",
       "WARREN G            1\n",
       "Name: Artist, Length: 473, dtype: int64"
      ]
     },
     "execution_count": 61,
     "metadata": {},
     "output_type": "execute_result"
    }
   ],
   "source": [
    "# Show top and bottom artists\n",
    "df['Artist'].value_counts()"
   ]
  },
  {
   "cell_type": "code",
   "execution_count": 62,
   "id": "f4d92501",
   "metadata": {},
   "outputs": [
    {
     "data": {
      "image/png": "[encoded data removed]",
      "text/plain": [
       "<Figure size 640x480 with 1 Axes>"
      ]
     },
     "metadata": {},
     "output_type": "display_data"
    }
   ],
   "source": [
    "# Artists with most gold certs \n",
    "fig, ax = plt.subplots()\n",
    "df['Artist'].value_counts().head(10).plot(ax=ax, kind='bar', title=\"Artist with most Gold Certificiations\", ylabel=\"Number of Gold Certifications\")\n",
    "plt.show()"
   ]
  }
 ],
 "metadata": {
  "kernelspec": {
   "display_name": "Python 3 (ipykernel)",
   "language": "python",
   "name": "python3"
  },
  "language_info": {
   "codemirror_mode": {
    "name": "ipython",
    "version": 3
   },
   "file_extension": ".py",
   "mimetype": "text/x-python",
   "name": "python",
   "nbconvert_exporter": "python",
   "pygments_lexer": "ipython3",
   "version": "3.11.1"
  }
 },
 "nbformat": 4,
 "nbformat_minor": 5
}
