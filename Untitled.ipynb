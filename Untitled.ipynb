{
 "cells": [
  {
   "cell_type": "code",
   "execution_count": 2,
   "id": "4c9dfe4f",
   "metadata": {},
   "outputs": [],
   "source": [
    "# Import dependencies \n",
    "import pandas as pd\n",
    "import matplotlib.pyplot as plt"
   ]
  },
  {
   "cell_type": "code",
   "execution_count": 6,
   "id": "04544fc5",
   "metadata": {},
   "outputs": [
    {
     "data": {
      "text/html": [
       "<div>\n",
       "<style scoped>\n",
       "    .dataframe tbody tr th:only-of-type {\n",
       "        vertical-align: middle;\n",
       "    }\n",
       "\n",
       "    .dataframe tbody tr th {\n",
       "        vertical-align: top;\n",
       "    }\n",
       "\n",
       "    .dataframe thead th {\n",
       "        text-align: right;\n",
       "    }\n",
       "</style>\n",
       "<table border=\"1\" class=\"dataframe\">\n",
       "  <thead>\n",
       "    <tr style=\"text-align: right;\">\n",
       "      <th></th>\n",
       "      <th>Unnamed: 0</th>\n",
       "      <th>Album</th>\n",
       "      <th>Artist</th>\n",
       "      <th>Status</th>\n",
       "      <th>Label</th>\n",
       "    </tr>\n",
       "  </thead>\n",
       "  <tbody>\n",
       "    <tr>\n",
       "      <th>0</th>\n",
       "      <td>0</td>\n",
       "      <td>GREATEST HITS</td>\n",
       "      <td>MARIAH CAREY</td>\n",
       "      <td>2x Multi-Platinum</td>\n",
       "      <td>LEGACY</td>\n",
       "    </tr>\n",
       "    <tr>\n",
       "      <th>1</th>\n",
       "      <td>1</td>\n",
       "      <td>THE REMIXES</td>\n",
       "      <td>MARIAH CAREY</td>\n",
       "      <td>Gold</td>\n",
       "      <td>COLUMBIA</td>\n",
       "    </tr>\n",
       "    <tr>\n",
       "      <th>2</th>\n",
       "      <td>2</td>\n",
       "      <td>VIEWS</td>\n",
       "      <td>DRAKE</td>\n",
       "      <td>6x Multi-Platinum</td>\n",
       "      <td>REPUBLIC RECORDS / CASH MONEY RECORDS / YOUNG...</td>\n",
       "    </tr>\n",
       "    <tr>\n",
       "      <th>3</th>\n",
       "      <td>3</td>\n",
       "      <td>MAJOR KEY</td>\n",
       "      <td>DJ KHALED</td>\n",
       "      <td>1x Platinum</td>\n",
       "      <td>WE THE BEST / EPIC</td>\n",
       "    </tr>\n",
       "    <tr>\n",
       "      <th>4</th>\n",
       "      <td>4</td>\n",
       "      <td>THE CHRISTMAS SESSIONS</td>\n",
       "      <td>MERCYME</td>\n",
       "      <td>Gold</td>\n",
       "      <td>FAIR TRADE SERVICES</td>\n",
       "    </tr>\n",
       "  </tbody>\n",
       "</table>\n",
       "</div>"
      ],
      "text/plain": [
       "   Unnamed: 0                    Album        Artist             Status  \\\n",
       "0           0            GREATEST HITS  MARIAH CAREY  2x Multi-Platinum   \n",
       "1           1              THE REMIXES  MARIAH CAREY               Gold   \n",
       "2           2                    VIEWS         DRAKE  6x Multi-Platinum   \n",
       "3           3                MAJOR KEY     DJ KHALED        1x Platinum   \n",
       "4           4   THE CHRISTMAS SESSIONS       MERCYME               Gold   \n",
       "\n",
       "                                               Label  \n",
       "0                                             LEGACY  \n",
       "1                                           COLUMBIA  \n",
       "2   REPUBLIC RECORDS / CASH MONEY RECORDS / YOUNG...  \n",
       "3                                 WE THE BEST / EPIC  \n",
       "4                                FAIR TRADE SERVICES  "
      ]
     },
     "execution_count": 6,
     "metadata": {},
     "output_type": "execute_result"
    }
   ],
   "source": [
    "# import artist file \n",
    "file = \"Resources/riaaAlbumCerts_1999-2019.csv\"\n",
    "artists_df=pd.read_csv(file)\n",
    "artists_df.head()"
   ]
  },
  {
   "cell_type": "code",
   "execution_count": 7,
   "id": "de0b86c1",
   "metadata": {},
   "outputs": [
    {
     "data": {
      "text/plain": [
       "15"
      ]
     },
     "execution_count": 7,
     "metadata": {},
     "output_type": "execute_result"
    }
   ],
   "source": [
    "status_types = len(artists_df[\"Status\"].unique())\n",
    "status_types"
   ]
  },
  {
   "cell_type": "code",
   "execution_count": 8,
   "id": "5d35b4ad",
   "metadata": {},
   "outputs": [
    {
     "data": {
      "text/plain": [
       "618"
      ]
     },
     "execution_count": 8,
     "metadata": {},
     "output_type": "execute_result"
    }
   ],
   "source": [
    "artists_count = len(artists_df[\"Artist\"].unique())\n",
    "artists_count"
   ]
  },
  {
   "cell_type": "code",
   "execution_count": 36,
   "id": "62ff41ba",
   "metadata": {},
   "outputs": [
    {
     "data": {
      "text/plain": [
       "742"
      ]
     },
     "execution_count": 36,
     "metadata": {},
     "output_type": "execute_result"
    }
   ],
   "source": [
    "artists_df['Status'].value_counts()['Gold']"
   ]
  },
  {
   "cell_type": "code",
   "execution_count": 46,
   "id": "e9e724df",
   "metadata": {
    "scrolled": false
   },
   "outputs": [
    {
     "data": {
      "text/html": [
       "<div>\n",
       "<style scoped>\n",
       "    .dataframe tbody tr th:only-of-type {\n",
       "        vertical-align: middle;\n",
       "    }\n",
       "\n",
       "    .dataframe tbody tr th {\n",
       "        vertical-align: top;\n",
       "    }\n",
       "\n",
       "    .dataframe thead th {\n",
       "        text-align: right;\n",
       "    }\n",
       "</style>\n",
       "<table border=\"1\" class=\"dataframe\">\n",
       "  <thead>\n",
       "    <tr style=\"text-align: right;\">\n",
       "      <th></th>\n",
       "      <th>Unnamed: 0</th>\n",
       "      <th>Album</th>\n",
       "      <th>Status</th>\n",
       "      <th>Label</th>\n",
       "    </tr>\n",
       "    <tr>\n",
       "      <th>Artist</th>\n",
       "      <th></th>\n",
       "      <th></th>\n",
       "      <th></th>\n",
       "      <th></th>\n",
       "    </tr>\n",
       "  </thead>\n",
       "  <tbody>\n",
       "    <tr>\n",
       "      <th>MARIAH CAREY</th>\n",
       "      <td>1</td>\n",
       "      <td>THE REMIXES</td>\n",
       "      <td>Gold</td>\n",
       "      <td>COLUMBIA</td>\n",
       "    </tr>\n",
       "    <tr>\n",
       "      <th>MERCYME</th>\n",
       "      <td>4</td>\n",
       "      <td>THE CHRISTMAS SESSIONS</td>\n",
       "      <td>Gold</td>\n",
       "      <td>FAIR TRADE SERVICES</td>\n",
       "    </tr>\n",
       "    <tr>\n",
       "      <th>DAUGHTRY</th>\n",
       "      <td>9</td>\n",
       "      <td>BAPTIZED</td>\n",
       "      <td>Gold</td>\n",
       "      <td>RCA</td>\n",
       "    </tr>\n",
       "    <tr>\n",
       "      <th>TREY SONGZ</th>\n",
       "      <td>12</td>\n",
       "      <td>TREMAINE: THE ALBUM</td>\n",
       "      <td>Gold</td>\n",
       "      <td>ATLANTIC RECORDS</td>\n",
       "    </tr>\n",
       "    <tr>\n",
       "      <th>CHRIS BROWN</th>\n",
       "      <td>16</td>\n",
       "      <td>GRAFFITI</td>\n",
       "      <td>Gold</td>\n",
       "      <td>RCA</td>\n",
       "    </tr>\n",
       "    <tr>\n",
       "      <th>...</th>\n",
       "      <td>...</td>\n",
       "      <td>...</td>\n",
       "      <td>...</td>\n",
       "      <td>...</td>\n",
       "    </tr>\n",
       "    <tr>\n",
       "      <th>BECK</th>\n",
       "      <td>1708</td>\n",
       "      <td>MIDNITE VULTURES</td>\n",
       "      <td>Gold</td>\n",
       "      <td>GEFFEN</td>\n",
       "    </tr>\n",
       "    <tr>\n",
       "      <th>PRINCE</th>\n",
       "      <td>1718</td>\n",
       "      <td>RAVE UN2 THE JOY FANTASTIC</td>\n",
       "      <td>Gold</td>\n",
       "      <td>ARISTA</td>\n",
       "    </tr>\n",
       "    <tr>\n",
       "      <th>OL' DIRTY BASTARD</th>\n",
       "      <td>1721</td>\n",
       "      <td>NIGGA PLEASE</td>\n",
       "      <td>Gold</td>\n",
       "      <td>ELEKTRA</td>\n",
       "    </tr>\n",
       "    <tr>\n",
       "      <th>311</th>\n",
       "      <td>1725</td>\n",
       "      <td>SOUND SYSTEM</td>\n",
       "      <td>Gold</td>\n",
       "      <td>CAPRICORN</td>\n",
       "    </tr>\n",
       "    <tr>\n",
       "      <th>WARREN G</th>\n",
       "      <td>1727</td>\n",
       "      <td>I WANT IT ALL</td>\n",
       "      <td>Gold</td>\n",
       "      <td>RESTLESS/G-FUNK</td>\n",
       "    </tr>\n",
       "  </tbody>\n",
       "</table>\n",
       "<p>742 rows × 4 columns</p>\n",
       "</div>"
      ],
      "text/plain": [
       "                   Unnamed: 0                       Album Status  \\\n",
       "Artist                                                             \n",
       "MARIAH CAREY                1                 THE REMIXES   Gold   \n",
       "MERCYME                     4      THE CHRISTMAS SESSIONS   Gold   \n",
       "DAUGHTRY                    9                    BAPTIZED   Gold   \n",
       "TREY SONGZ                 12         TREMAINE: THE ALBUM   Gold   \n",
       "CHRIS BROWN                16                    GRAFFITI   Gold   \n",
       "...                       ...                         ...    ...   \n",
       "BECK                     1708            MIDNITE VULTURES   Gold   \n",
       "PRINCE                   1718  RAVE UN2 THE JOY FANTASTIC   Gold   \n",
       "OL' DIRTY BASTARD        1721                NIGGA PLEASE   Gold   \n",
       "311                      1725                SOUND SYSTEM   Gold   \n",
       "WARREN G                 1727               I WANT IT ALL   Gold   \n",
       "\n",
       "                                  Label  \n",
       "Artist                                   \n",
       "MARIAH CAREY                   COLUMBIA  \n",
       "MERCYME             FAIR TRADE SERVICES  \n",
       "DAUGHTRY                            RCA  \n",
       "TREY SONGZ             ATLANTIC RECORDS  \n",
       "CHRIS BROWN                         RCA  \n",
       "...                                 ...  \n",
       "BECK                             GEFFEN  \n",
       "PRINCE                           ARISTA  \n",
       "OL' DIRTY BASTARD               ELEKTRA  \n",
       "311                           CAPRICORN  \n",
       "WARREN G                RESTLESS/G-FUNK  \n",
       "\n",
       "[742 rows x 4 columns]"
      ]
     },
     "execution_count": 46,
     "metadata": {},
     "output_type": "execute_result"
    }
   ],
   "source": [
    "index=artists_df.set_index([\"Artist\"])\n",
    "index\n",
    "test=index[\"Status\"]==\"Gold\"\n",
    "test\n",
    "df=index.loc[test[:]]\n",
    "df"
   ]
  },
  {
   "cell_type": "code",
   "execution_count": null,
   "id": "a1b7e3c6",
   "metadata": {},
   "outputs": [],
   "source": []
  }
 ],
 "metadata": {
  "kernelspec": {
   "display_name": "Python 3 (ipykernel)",
   "language": "python",
   "name": "python3"
  },
  "language_info": {
   "codemirror_mode": {
    "name": "ipython",
    "version": 3
   },
   "file_extension": ".py",
   "mimetype": "text/x-python",
   "name": "python",
   "nbconvert_exporter": "python",
   "pygments_lexer": "ipython3",
   "version": "3.11.1"
  }
 },
 "nbformat": 4,
 "nbformat_minor": 5
}
